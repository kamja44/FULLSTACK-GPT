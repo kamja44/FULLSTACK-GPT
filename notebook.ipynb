{
 "cells": [
  {
   "cell_type": "code",
   "execution_count": null,
   "id": "c87e1dc1",
   "metadata": {},
   "outputs": [],
   "source": [
    "from langchain.chat_models import ChatOpenAI\n",
    "from langchain.prompts import  ChatPromptTemplate\n",
    "from langchain.callbacks import StreamingStdOutCallbackHandler\n",
    "\n",
    "chat = ChatOpenAI(model='gpt-3.5-turbo', temperature=0.1, streaming=True, callbacks=[StreamingStdOutCallbackHandler()])\n",
    "\n",
    "poem_prompt=ChatPromptTemplate.from_messages([(\"system\", \"You are a world-clas poet who crafts interesting poems that readers love.\"),\n",
    "(\"human\", \"Please compose a free-verse poem(~20 lines) in a {poem_style}\")])\n",
    "\n",
    "poem_chain=poem_prompt | chat"
   ]
  },
  {
   "cell_type": "code",
   "execution_count": null,
   "id": "1d44383d",
   "metadata": {},
   "outputs": [],
   "source": [
    "love_poem_prompt = ChatPromptTemplate.from_messages([(\"system\", \"You are a world‑class poet who crafts unforgettable love poems, capturing tenderness, passion, and longing with vivid imagery and emotional depth.\"\n",
    "), (\"human\", \"{poem}\")])\n",
    "\n",
    "love_poem_chain = love_poem_prompt | chat"
   ]
  },
  {
   "cell_type": "code",
   "execution_count": null,
   "id": "fee0118b",
   "metadata": {},
   "outputs": [
    {
     "name": "stdout",
     "output_type": "stream",
     "text": [
      "In the quiet of the night, love whispers softly,\n",
      "A melody that dances in the heart's embrace,\n",
      "A symphony of emotions that knows no bounds,\n",
      "Binding souls in a timeless grace.\n",
      "\n",
      "Love is a tapestry woven with threads of gold,\n",
      "Each stitch a story of passion untold,\n",
      "It blooms like a flower in the garden of the soul,\n",
      "A fragrant bloom that makes the broken whole.\n",
      "\n",
      "In the depths of love, we find our true selves,\n",
      "Reflections of beauty in each other's eyes,\n",
      "A mirror that reflects the light within,\n",
      "Guiding us through life's lows and highs.\n",
      "\n",
      "Love is a journey, a winding road,\n",
      "With twists and turns that test our resolve,\n",
      "But hand in hand, we walk the path,\n",
      "Knowing that together, we can evolve.\n",
      "\n",
      "So let love be the compass that guides our way,\n",
      "A beacon of hope in the darkest night,\n",
      "For in each other's arms, we find our home,\n",
      "A sanctuary where love takes flight.In the quiet of the night, love whispers softly,\n",
      "A melody that dances in the heart's embrace,\n",
      "A symphony of emotions that knows no bounds,\n",
      "Binding souls in a timeless grace.\n",
      "\n",
      "Love is a tapestry woven with threads of gold,\n",
      "Each stitch a story of passion untold,\n",
      "It blooms like a flower in the garden of the soul,\n",
      "A fragrant bloom that makes the broken whole.\n",
      "\n",
      "In the depths of love, we find our true selves,\n",
      "Reflections of beauty in each other's eyes,\n",
      "A mirror that reflects the light within,\n",
      "Guiding us through life's lows and highs.\n",
      "\n",
      "Love is a journey, a winding road,\n",
      "With twists and turns that test our resolve,\n",
      "But hand in hand, we walk the path,\n",
      "Knowing that together, we can evolve.\n",
      "\n",
      "So let love be the compass that guides our way,\n",
      "A beacon of hope in the darkest night,\n",
      "For in each other's arms, we find our home,\n",
      "A sanctuary where love takes flight."
     ]
    },
    {
     "data": {
      "text/plain": [
       "AIMessageChunk(content=\"In the quiet of the night, love whispers softly,\\nA melody that dances in the heart's embrace,\\nA symphony of emotions that knows no bounds,\\nBinding souls in a timeless grace.\\n\\nLove is a tapestry woven with threads of gold,\\nEach stitch a story of passion untold,\\nIt blooms like a flower in the garden of the soul,\\nA fragrant bloom that makes the broken whole.\\n\\nIn the depths of love, we find our true selves,\\nReflections of beauty in each other's eyes,\\nA mirror that reflects the light within,\\nGuiding us through life's lows and highs.\\n\\nLove is a journey, a winding road,\\nWith twists and turns that test our resolve,\\nBut hand in hand, we walk the path,\\nKnowing that together, we can evolve.\\n\\nSo let love be the compass that guides our way,\\nA beacon of hope in the darkest night,\\nFor in each other's arms, we find our home,\\nA sanctuary where love takes flight.\")"
      ]
     },
     "execution_count": 4,
     "metadata": {},
     "output_type": "execute_result"
    }
   ],
   "source": [
    "final_chain= {\"poem\":poem_chain} | love_poem_chain # 이렇게 하면 veg_Chain의 입력값 recipe을 chef_chain으로부터 받게 된다.\n",
    "\n",
    "final_chain.invoke({\n",
    "    \"poem_style\": \"love\"\n",
    "})"
   ]
  },
  {
   "cell_type": "code",
   "execution_count": null,
   "id": "ce2a5f46",
   "metadata": {},
   "outputs": [],
   "source": []
  },
  {
   "cell_type": "code",
   "execution_count": null,
   "id": "1a70578b",
   "metadata": {},
   "outputs": [],
   "source": []
  }
 ],
 "metadata": {
  "kernelspec": {
   "display_name": "env",
   "language": "python",
   "name": "python3"
  },
  "language_info": {
   "codemirror_mode": {
    "name": "ipython",
    "version": 3
   },
   "file_extension": ".py",
   "mimetype": "text/x-python",
   "name": "python",
   "nbconvert_exporter": "python",
   "pygments_lexer": "ipython3",
   "version": "3.11.12"
  }
 },
 "nbformat": 4,
 "nbformat_minor": 5
}
