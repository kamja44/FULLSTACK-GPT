{
 "cells": [
  {
   "cell_type": "code",
   "execution_count": 19,
   "id": "f1ee44da",
   "metadata": {},
   "outputs": [],
   "source": [
    "from langchain.memory import ConversationSummaryBufferMemory\n",
    "from langchain.chat_models import ChatOpenAI\n",
    "from langchain.schema.runnable import RunnablePassthrough\n",
    "from langchain.prompts import ChatPromptTemplate, MessagesPlaceholder\n",
    "\n",
    "llm = ChatOpenAI(temperature=0.1)\n",
    "\n",
    "memory = ConversationSummaryBufferMemory(\n",
    "    llm=llm,\n",
    "    max_token_limit=120,\n",
    "    return_messages=True,\n",
    ")\n",
    "\n",
    "emoji_examples = [\n",
    "    (\"human\", \"탑건\"),\n",
    "    (\"ai\",    \"🛩️👨‍✈️🔥\"),\n",
    "    (\"human\", \"대부\"),\n",
    "    (\"ai\",    \"👨‍👨‍👦🔫🍝\"),\n",
    "]\n",
    "\n",
    "prompt = ChatPromptTemplate.from_messages(\n",
    "    [\n",
    "        (\n",
    "            \"system\",\n",
    "            \"당신은 영화 제목을 입력받으면 **반드시 3개의 관련 이모티콘**만 출력하는 AI입니다.\\n\"\n",
    "        ),\n",
    "        MessagesPlaceholder(variable_name=\"history\"), \n",
    "        *emoji_examples,                          \n",
    "        (\"human\", \"{question}\")                     \n",
    "    ]\n",
    ")\n",
    "\n",
    "\n",
    "\n",
    "def load_memory(_):\n",
    "    return memory.load_memory_variables({})[\"history\"]\n",
    "\n",
    "\n",
    "chain = RunnablePassthrough.assign(history=load_memory) | prompt | llm\n",
    "\n",
    "\n",
    "def invoke_chain(question):\n",
    "    result = chain.invoke({\"question\": question})\n",
    "    memory.save_context(\n",
    "        {\"input\": question},\n",
    "        {\"output\": result.content},\n",
    "    )\n",
    "    print(result)"
   ]
  },
  {
   "cell_type": "code",
   "execution_count": 20,
   "id": "26d58c79",
   "metadata": {},
   "outputs": [
    {
     "name": "stdout",
     "output_type": "stream",
     "text": [
      "content='😊🧠💥'\n"
     ]
    }
   ],
   "source": [
    "invoke_chain(\"인사이드 아웃\")   "
   ]
  },
  {
   "cell_type": "code",
   "execution_count": 21,
   "id": "618f81c6",
   "metadata": {},
   "outputs": [
    {
     "name": "stdout",
     "output_type": "stream",
     "text": [
      "content='🐜🏠💰'\n"
     ]
    }
   ],
   "source": [
    "invoke_chain(\"기생충\")"
   ]
  },
  {
   "cell_type": "code",
   "execution_count": null,
   "id": "583a9918",
   "metadata": {},
   "outputs": [],
   "source": []
  }
 ],
 "metadata": {
  "kernelspec": {
   "display_name": "env",
   "language": "python",
   "name": "python3"
  },
  "language_info": {
   "codemirror_mode": {
    "name": "ipython",
    "version": 3
   },
   "file_extension": ".py",
   "mimetype": "text/x-python",
   "name": "python",
   "nbconvert_exporter": "python",
   "pygments_lexer": "ipython3",
   "version": "3.11.4"
  }
 },
 "nbformat": 4,
 "nbformat_minor": 5
}
